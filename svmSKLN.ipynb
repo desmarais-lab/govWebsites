{
 "cells": [
  {
   "cell_type": "code",
   "execution_count": 4,
   "metadata": {
    "collapsed": true
   },
   "outputs": [],
   "source": [
    "import pandas as pd\n",
    "from rpy2.robjects import r\n",
    "import rpy2.robjects.pandas2ri as pandas2ri\n",
    "pandas2ri.activate() #MANDATORY !\n",
    "#load into the env\n",
    "file=\"~/govWebsites/rfiles/d.Rdata\"\n",
    "rf=r['load'](file)"
   ]
  },
  {
   "cell_type": "code",
   "execution_count": 5,
   "metadata": {
    "collapsed": true
   },
   "outputs": [],
   "source": [
    "d = r['d']"
   ]
  },
  {
   "cell_type": "code",
   "execution_count": 6,
   "metadata": {
    "collapsed": true
   },
   "outputs": [
    {
     "data": {
      "text/plain": [
       "1         mayor shepherd city clerk  board member also ...\n",
       "2         present  dale grant craft mayor shepherd  att...\n",
       "3         mayor shepherd city clerk  board members amp ...\n",
       "4         present  dale grant craft mayor shepherd  att...\n",
       "5        notice   pm   city council room present  mayor...\n",
       "6         mayor shepherd city clerk  board member also ...\n",
       "7         present  dale grant craft mayor shepherd  att...\n",
       "8         present  grant craft made  motion  approve  m...\n",
       "9         mayor shepherd city clerk  board member also ...\n",
       "10       notice   pm   city council room present  mayor...\n",
       "11       pm  present  grant craft made  motion  approve...\n",
       "12       notice   pm   city council room present  mayor...\n",
       "13       notice   pm   city council room present  mayor...\n",
       "14        present  grant craft made  motion  approve  m...\n",
       "15       present  board members  huckleberry city clerk...\n",
       "16       pm  present  grant mayor shepherd  made  motio...\n",
       "17       opened  public hearing   proposed cumulative c...\n",
       "18       present  board members  huckleberry city clerk...\n",
       "19       shepherd  city attorney tom  minutes   meeting...\n",
       "20       approval   minutes   previous meeting made  mo...\n",
       "21       present  board member huckleberry city clerk m...\n",
       "22       notice  sept  pm   city council room shepherd ...\n",
       "23       mayor shepherd asked     additions  correction...\n",
       "24       notice  sept  pm   city council room shepherd ...\n",
       "25       notice   pm   city council room present  board...\n",
       "26       mayor shepherd asked     additions  correction...\n",
       "27       notice   pm   city council room present  board...\n",
       "28       mayor shepherd   minutes  presented  approval ...\n",
       "29       notice   pm   city council room present  board...\n",
       "30        minutes   th  th council meetings  presented ...\n",
       "                               ...                        \n",
       "21022       home   square dickens   square lasts  day c...\n",
       "21026       home community building community building ...\n",
       "21027       home locations locations browse locations b...\n",
       "21028       home park park union st covered land later ...\n",
       "21029       home community building community building ...\n",
       "21032       home community building community building ...\n",
       "21034       home memorial park memorial park directions...\n",
       "21037       home speedway  speedway state road  speedwa...\n",
       "21044       home prevention education fire prevention e...\n",
       "21046       home payment information utility payment in...\n",
       "21047       home adoptions pet adoptions   animal contr...\n",
       "21048       home  public city meetings audio  public ci...\n",
       "21049       home pet  never   worry  losing  pet ever  ...\n",
       "21050       home recycling  county solid waste manageme...\n",
       "21051       home recognition expert program drug recogn...\n",
       "21059    end twitter enter search terms  submit  naviga...\n",
       "21062    note  message  displayed   browser       disab...\n",
       "21064    home accounting finance paralegal art photogra...\n",
       "21065    home accounting finance paralegal art photogra...\n",
       "21068     states accounting bible biology management bu...\n",
       "21071       home apparatus fire apparatus car  various ...\n",
       "21076    east side main street tractor city hall utilit...\n",
       "21077       home gt privacy policy privacy policy  priv...\n",
       "21078       home gt feeds feeds feeds   really simple s...\n",
       "21079       home gt terms  use terms  use contents priv...\n",
       "21082    topic logo   perfect location  perfect locatio...\n",
       "21083    topic logo   industry thriving industry thrivi...\n",
       "21084    topic logo   quality  life high quality  life ...\n",
       "21085    topic logo   rankings high rankings high ranki...\n",
       "21086    topic logo   park space industrial park space ...\n",
       "Name: doc, Length: 16116, dtype: object"
      ]
     },
     "execution_count": 6,
     "metadata": {},
     "output_type": "execute_result"
    }
   ],
   "source": [
    "d['doc']"
   ]
  },
  {
   "cell_type": "code",
   "execution_count": 7,
   "metadata": {},
   "outputs": [
    {
     "data": {
      "text/plain": [
       "(16116, 35135)"
      ]
     },
     "execution_count": 7,
     "metadata": {},
     "output_type": "execute_result"
    }
   ],
   "source": [
    "from sklearn.feature_extraction.text import CountVectorizer\n",
    "count_vect = CountVectorizer()\n",
    "X_train_counts = count_vect.fit_transform(d['doc'])\n",
    "X_train_counts.shape"
   ]
  },
  {
   "cell_type": "code",
   "execution_count": 8,
   "metadata": {
    "scrolled": true
   },
   "outputs": [
    {
     "data": {
      "text/plain": [
       "(16116, 35135)"
      ]
     },
     "execution_count": 8,
     "metadata": {},
     "output_type": "execute_result"
    }
   ],
   "source": [
    "from sklearn.feature_extraction.text import TfidfTransformer\n",
    "tfidf_transformer = TfidfTransformer()\n",
    "X_train_tfidf = tfidf_transformer.fit_transform(X_train_counts)\n",
    "X_train_tfidf.shape"
   ]
  },
  {
   "cell_type": "markdown",
   "metadata": {},
   "source": [
    "Naive Bayes"
   ]
  },
  {
   "cell_type": "code",
   "execution_count": 9,
   "metadata": {
    "collapsed": true
   },
   "outputs": [],
   "source": [
    "from sklearn.naive_bayes import MultinomialNB\n",
    "clf = MultinomialNB().fit(X_train_tfidf, d['winner'])"
   ]
  },
  {
   "cell_type": "code",
   "execution_count": 10,
   "metadata": {
    "collapsed": true,
    "scrolled": true
   },
   "outputs": [],
   "source": [
    "docs_new = ['God is love', 'OpenGL on the GPU is fast', 'we like spending lots of money on social issues', 'waste management', 'climate change']\n",
    "X_new_counts = count_vect.transform(docs_new)\n",
    "X_new_tfidf = tfidf_transformer.transform(X_new_counts)\n",
    "\n",
    "predicted = clf.predict(X_new_tfidf)"
   ]
  },
  {
   "cell_type": "code",
   "execution_count": 11,
   "metadata": {
    "scrolled": true
   },
   "outputs": [
    {
     "data": {
      "text/plain": [
       "array(['Republican', 'Republican', 'Democratic', 'Democratic', 'Democratic'],\n",
       "      dtype='<U10')"
      ]
     },
     "execution_count": 11,
     "metadata": {},
     "output_type": "execute_result"
    }
   ],
   "source": [
    "predicted"
   ]
  },
  {
   "cell_type": "code",
   "execution_count": 14,
   "metadata": {
    "collapsed": true
   },
   "outputs": [],
   "source": [
    "from sklearn.pipeline import Pipeline\n",
    "text_clf = Pipeline([('vect', CountVectorizer()),\n",
    "                      ('tfidf', TfidfTransformer()),\n",
    "                      ('clf', MultinomialNB()),\n",
    " ])"
   ]
  },
  {
   "cell_type": "code",
   "execution_count": 15,
   "metadata": {},
   "outputs": [
    {
     "data": {
      "text/plain": [
       "Pipeline(memory=None,\n",
       "     steps=[('vect', CountVectorizer(analyzer='word', binary=False, decode_error='strict',\n",
       "        dtype=<class 'numpy.int64'>, encoding='utf-8', input='content',\n",
       "        lowercase=True, max_df=1.0, max_features=None, min_df=1,\n",
       "        ngram_range=(1, 1), preprocessor=None, stop_words=None,\n",
       "        strip...inear_tf=False, use_idf=True)), ('clf', MultinomialNB(alpha=1.0, class_prior=None, fit_prior=True))])"
      ]
     },
     "execution_count": 15,
     "metadata": {},
     "output_type": "execute_result"
    }
   ],
   "source": [
    "text_clf.fit(d['doc'], d['winner'])"
   ]
  },
  {
   "cell_type": "code",
   "execution_count": 16,
   "metadata": {
    "collapsed": true
   },
   "outputs": [],
   "source": [
    "from sklearn.model_selection import train_test_split"
   ]
  },
  {
   "cell_type": "code",
   "execution_count": 56,
   "metadata": {
    "collapsed": true
   },
   "outputs": [],
   "source": [
    "lb = preprocessing.LabelBinarizer()\n",
    "y = lb.fit_transform(d['winner'])"
   ]
  },
  {
   "cell_type": "code",
   "execution_count": 57,
   "metadata": {
    "collapsed": true
   },
   "outputs": [],
   "source": [
    "X_train, X_test, y_train, y_test = train_test_split(d['doc'], y, test_size=0.33, random_state=42)"
   ]
  },
  {
   "cell_type": "code",
   "execution_count": 18,
   "metadata": {},
   "outputs": [
    {
     "data": {
      "text/plain": [
       "Pipeline(memory=None,\n",
       "     steps=[('vect', CountVectorizer(analyzer='word', binary=False, decode_error='strict',\n",
       "        dtype=<class 'numpy.int64'>, encoding='utf-8', input='content',\n",
       "        lowercase=True, max_df=1.0, max_features=None, min_df=1,\n",
       "        ngram_range=(1, 1), preprocessor=None, stop_words=None,\n",
       "        strip...inear_tf=False, use_idf=True)), ('clf', MultinomialNB(alpha=1.0, class_prior=None, fit_prior=True))])"
      ]
     },
     "execution_count": 18,
     "metadata": {},
     "output_type": "execute_result"
    }
   ],
   "source": [
    "text_clf.fit(X_train,y_train)"
   ]
  },
  {
   "cell_type": "code",
   "execution_count": 19,
   "metadata": {},
   "outputs": [
    {
     "data": {
      "text/plain": [
       "0.75202105658958451"
      ]
     },
     "execution_count": 19,
     "metadata": {},
     "output_type": "execute_result"
    }
   ],
   "source": [
    "import numpy as np\n",
    "predicted = text_clf.predict(X_test)\n",
    "np.mean(predicted == y_test)        "
   ]
  },
  {
   "cell_type": "markdown",
   "metadata": {},
   "source": [
    "SVM:"
   ]
  },
  {
   "cell_type": "code",
   "execution_count": 58,
   "metadata": {},
   "outputs": [
    {
     "name": "stderr",
     "output_type": "stream",
     "text": [
      "/usr/lib/python3.6/site-packages/sklearn/linear_model/stochastic_gradient.py:84: FutureWarning: max_iter and tol parameters have been added in <class 'sklearn.linear_model.stochastic_gradient.SGDClassifier'> in 0.19. If both are left unset, they default to max_iter=5 and tol=None. If tol is not None, max_iter defaults to max_iter=1000. From 0.21, default max_iter will be 1000, and default tol will be 1e-3.\n",
      "  \"and default tol will be 1e-3.\" % type(self), FutureWarning)\n",
      "/usr/lib/python3.6/site-packages/sklearn/utils/validation.py:547: DataConversionWarning: A column-vector y was passed when a 1d array was expected. Please change the shape of y to (n_samples, ), for example using ravel().\n",
      "  y = column_or_1d(y, warn=True)\n"
     ]
    },
    {
     "data": {
      "text/plain": [
       "Pipeline(memory=None,\n",
       "     steps=[('vect', CountVectorizer(analyzer='word', binary=False, decode_error='strict',\n",
       "        dtype=<class 'numpy.int64'>, encoding='utf-8', input='content',\n",
       "        lowercase=True, max_df=1.0, max_features=None, min_df=1,\n",
       "        ngram_range=(1, 1), preprocessor=None, stop_words=None,\n",
       "        strip...ty='l2', power_t=0.5, random_state=42, shuffle=True,\n",
       "       tol=None, verbose=0, warm_start=False))])"
      ]
     },
     "execution_count": 58,
     "metadata": {},
     "output_type": "execute_result"
    }
   ],
   "source": [
    "from sklearn.linear_model import SGDClassifier\n",
    "text_clf = Pipeline([('vect', CountVectorizer()),\n",
    "                     ('tfidf', TfidfTransformer()),\n",
    "                     ('clf', SGDClassifier(loss='hinge', penalty='l2',\n",
    "                                           alpha=0.001, random_state=42)),\n",
    "])\n",
    "text_clf.fit(X_train, y_train)"
   ]
  },
  {
   "cell_type": "code",
   "execution_count": 80,
   "metadata": {
    "scrolled": true
   },
   "outputs": [
    {
     "data": {
      "text/plain": [
       "array([3419, 1900, 1900, ..., 3419, 3419, 3419])"
      ]
     },
     "execution_count": 80,
     "metadata": {},
     "output_type": "execute_result"
    }
   ],
   "source": [
    "predicted = text_clf.predict(X_test)\n",
    "sum(predicted == y_test)"
   ]
  },
  {
   "cell_type": "markdown",
   "metadata": {},
   "source": [
    "performance analysis"
   ]
  },
  {
   "cell_type": "code",
   "execution_count": 81,
   "metadata": {},
   "outputs": [
    {
     "name": "stdout",
     "output_type": "stream",
     "text": [
      "             precision    recall  f1-score   support\n",
      "\n",
      "   Democrat       0.77      0.98      0.86      3419\n",
      " Republican       0.91      0.48      0.63      1900\n",
      "\n",
      "avg / total       0.82      0.80      0.78      5319\n",
      "\n"
     ]
    }
   ],
   "source": [
    "from sklearn import metrics\n",
    "print(metrics.classification_report(y_test, predicted, target_names=['Democrat','Republican']))"
   ]
  },
  {
   "cell_type": "code",
   "execution_count": 30,
   "metadata": {},
   "outputs": [
    {
     "data": {
      "text/plain": [
       "array([[3334,   85],\n",
       "       [ 994,  906]])"
      ]
     },
     "execution_count": 30,
     "metadata": {},
     "output_type": "execute_result"
    }
   ],
   "source": [
    "metrics.confusion_matrix(y_test, predicted)"
   ]
  },
  {
   "cell_type": "code",
   "execution_count": 62,
   "metadata": {},
   "outputs": [],
   "source": [
    "fpr, tpr, thresholds = metrics.roc_curve(y_test, predicted)"
   ]
  },
  {
   "cell_type": "code",
   "execution_count": 77,
   "metadata": {},
   "outputs": [
    {
     "data": {
      "text/plain": [
       "array([2, 1, 0])"
      ]
     },
     "execution_count": 77,
     "metadata": {},
     "output_type": "execute_result"
    }
   ],
   "source": [
    "thresholds"
   ]
  },
  {
   "cell_type": "code",
   "execution_count": 70,
   "metadata": {},
   "outputs": [
    {
     "data": {
      "image/png": "[encoded data removed]",
      "text/plain": [
       "<matplotlib.figure.Figure at 0x7f2f3890e470>"
      ]
     },
     "metadata": {},
     "output_type": "display_data"
    }
   ],
   "source": [
    "import matplotlib.pyplot as plt\n",
    "plt.plot(fpr, tpr)\n",
    "plt.plot([0, 1], [0, 1], linestyle='--', lw=2, color='r',\n",
    "         label='Luck', alpha=.8)\n",
    "plt.show()"
   ]
  },
  {
   "cell_type": "markdown",
   "metadata": {},
   "source": [
    "Grid search parameters"
   ]
  },
  {
   "cell_type": "code",
   "execution_count": 22,
   "metadata": {
    "collapsed": true
   },
   "outputs": [],
   "source": [
    "from sklearn.model_selection import GridSearchCV\n",
    "parameters = {'vect__ngram_range': [(1, 1), (1, 2)],\n",
    "              'tfidf__use_idf': (True, False),\n",
    "              'clf__alpha': (1e-2, 1e-3),\n",
    "}"
   ]
  },
  {
   "cell_type": "code",
   "execution_count": 23,
   "metadata": {
    "collapsed": true
   },
   "outputs": [],
   "source": [
    "gs_clf = GridSearchCV(text_clf, parameters, n_jobs=-1)"
   ]
  },
  {
   "cell_type": "code",
   "execution_count": 41,
   "metadata": {
    "collapsed": true
   },
   "outputs": [],
   "source": [
    "gs_clf = gs_clf.fit(X_train, y_train)"
   ]
  },
  {
   "cell_type": "code",
   "execution_count": 42,
   "metadata": {},
   "outputs": [
    {
     "data": {
      "text/plain": [
       "0.79188663517643787"
      ]
     },
     "execution_count": 42,
     "metadata": {},
     "output_type": "execute_result"
    }
   ],
   "source": [
    "gs_clf.best_score_"
   ]
  },
  {
   "cell_type": "code",
   "execution_count": 43,
   "metadata": {},
   "outputs": [
    {
     "name": "stdout",
     "output_type": "stream",
     "text": [
      "clf__alpha: 0.001\n",
      "tfidf__use_idf: True\n",
      "vect__ngram_range: (1, 1)\n"
     ]
    }
   ],
   "source": [
    "for param_name in sorted(parameters.keys()):\n",
    "    print(\"%s: %r\" % (param_name, gs_clf.best_params_[param_name]))"
   ]
  },
  {
   "cell_type": "code",
   "execution_count": 55,
   "metadata": {},
   "outputs": [
    {
     "data": {
      "text/plain": [
       "6051     Democratic\n",
       "9498     Republican\n",
       "38       Republican\n",
       "979      Democratic\n",
       "11028    Democratic\n",
       "5489     Democratic\n",
       "11542    Democratic\n",
       "1135     Republican\n",
       "19913    Democratic\n",
       "13088    Democratic\n",
       "8960     Republican\n",
       "6787     Democratic\n",
       "15636    Republican\n",
       "3558     Republican\n",
       "6485     Democratic\n",
       "7498     Democratic\n",
       "5965     Democratic\n",
       "12870    Democratic\n",
       "10866    Democratic\n",
       "6669     Democratic\n",
       "1321     Republican\n",
       "6486     Democratic\n",
       "16288    Republican\n",
       "969      Democratic\n",
       "14947    Democratic\n",
       "7922     Republican\n",
       "3465     Republican\n",
       "14423    Democratic\n",
       "8263     Republican\n",
       "5682     Democratic\n",
       "            ...    \n",
       "6650     Democratic\n",
       "6994     Democratic\n",
       "3663     Republican\n",
       "9323     Republican\n",
       "20549    Republican\n",
       "17528    Republican\n",
       "13317    Democratic\n",
       "1203     Republican\n",
       "20404    Democratic\n",
       "2875     Republican\n",
       "10978    Democratic\n",
       "20917    Democratic\n",
       "13851    Democratic\n",
       "14105    Democratic\n",
       "14404    Democratic\n",
       "18271    Democratic\n",
       "7600     Democratic\n",
       "5971     Democratic\n",
       "17196    Republican\n",
       "780      Democratic\n",
       "8556     Republican\n",
       "7835     Democratic\n",
       "14024    Democratic\n",
       "14732    Democratic\n",
       "6802     Democratic\n",
       "16951    Democratic\n",
       "7204     Democratic\n",
       "1300     Republican\n",
       "20579    Republican\n",
       "9695     Republican\n",
       "Name: winner, Length: 10797, dtype: object"
      ]
     },
     "execution_count": 55,
     "metadata": {},
     "output_type": "execute_result"
    }
   ],
   "source": [
    "lb = preprocessing.LabelBinarizer()\n",
    "a = lb.fit_transform(y_train)\n",
    "y_train"
   ]
  }
 ],
 "metadata": {
  "kernelspec": {
   "display_name": "Python 3",
   "language": "python",
   "name": "python3"
  },
  "language_info": {
   "codemirror_mode": {
    "name": "ipython",
    "version": 3
   },
   "file_extension": ".py",
   "mimetype": "text/x-python",
   "name": "python",
   "nbconvert_exporter": "python",
   "pygments_lexer": "ipython3",
   "version": "3.6.2"
  }
 },
 "nbformat": 4,
 "nbformat_minor": 2
}
