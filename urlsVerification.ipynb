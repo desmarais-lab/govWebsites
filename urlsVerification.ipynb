{
 "cells": [
  {
   "cell_type": "code",
   "execution_count": 1,
   "metadata": {},
   "outputs": [],
   "source": [
    "from selenium import webdriver\n",
    "from selenium.webdriver.common.keys import Keys\n",
    "from selenium.common.exceptions import TimeoutException\n",
    "from selenium.common.exceptions import WebDriverException\n",
    "import re\n",
    "\n",
    "f = open('websites/urls.txt','r')\n",
    "sites = f.readlines()\n",
    "\n",
    "browser = webdriver.Firefox()\n",
    "browser.set_page_load_timeout(25)\n",
    "siteslist = []\n",
    "for i in sites:\n",
    "    url = i.strip()\n",
    "    if \"http\" not in url:\n",
    "        url = \"http://\" + url\n",
    "    try:\n",
    "        browser.get(url)\n",
    "        sitelink = browser.current_url\n",
    "        siteslist.append(sitelink)\n",
    "    except TimeoutException:\n",
    "        sitelink = \"TimeoutException\"\n",
    "        siteslist.append(sitelink)\n",
    "    except WebDriverException:\n",
    "        sitelink = \"WebDriverException\"\n",
    "        siteslist.append(sitelink)\n",
    "    except:\n",
    "        sitelink = \"Error\"\n",
    "        siteslist.append(sitelink)\n",
    "\n",
    "browser.close()\n",
    "\n",
    "outfile = open('websites/urls_verified.txt', 'w')\n",
    "for item in siteslist:\n",
    "    outfile.write(\"%s\\n\" % item)\n",
    "outfile.close()"
   ]
  }
 ],
 "metadata": {
  "kernelspec": {
   "display_name": "Python 3",
   "language": "python",
   "name": "python3"
  },
  "language_info": {
   "codemirror_mode": {
    "name": "ipython",
    "version": 3
   },
   "file_extension": ".py",
   "mimetype": "text/x-python",
   "name": "python",
   "nbconvert_exporter": "python",
   "pygments_lexer": "ipython3",
   "version": "3.6.4"
  }
 },
 "nbformat": 4,
 "nbformat_minor": 2
}
