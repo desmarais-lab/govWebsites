{
 "cells": [
  {
   "cell_type": "code",
   "execution_count": 46,
   "metadata": {
    "collapsed": true
   },
   "outputs": [],
   "source": [
    "import pandas as pd\n",
    "from rpy2.robjects import r\n",
    "import rpy2.robjects.pandas2ri as pandas2ri\n",
    "pandas2ri.activate() #MANDATORY !\n",
    "file = \"~/govWebsites/rfiles/d.Rdata\"\n",
    "rf = r['load'](file)\n",
    "d = r['d']\n",
    "docs = d['doc']"
   ]
  },
  {
   "cell_type": "code",
   "execution_count": 43,
   "metadata": {
    "collapsed": false
   },
   "outputs": [],
   "source": [
    "docs = X[200:510]"
   ]
  },
  {
   "cell_type": "code",
   "execution_count": 12,
   "metadata": {
    "collapsed": false,
    "scrolled": true
   },
   "outputs": [
    {
     "data": {
      "text/plain": [
       "730     ordinance annexing certain territory   city  ...\n",
       "731     ordinance amending chapter division ii sectio...\n",
       "732     ordinance rezoning certain real estate wherea...\n",
       "733    ordinance ordinance   common council   city   ...\n",
       "734    ordinance   common council   city   ordinance ...\n",
       "735     ordinance creating  economic development fund...\n",
       "736     ordinance creating public safety fund whereas...\n",
       "737     ordinance creating fund titled special distri...\n",
       "738     ordinance  technical corrections  whereas  co...\n",
       "739     ordinance amending chapter article   inclusio...\n",
       "Name: doc, dtype: object"
      ]
     },
     "execution_count": 12,
     "metadata": {},
     "output_type": "execute_result"
    }
   ],
   "source": [
    "docs"
   ]
  },
  {
   "cell_type": "code",
   "execution_count": null,
   "metadata": {
    "collapsed": true
   },
   "outputs": [],
   "source": [
    "import spacy\n",
    "nlp = spacy.load('en')"
   ]
  },
  {
   "cell_type": "code",
   "execution_count": 47,
   "metadata": {
    "collapsed": false
   },
   "outputs": [
    {
     "name": "stdout",
     "output_type": "stream",
     "text": [
      "CPU times: user 9min 28s, sys: 364 ms, total: 9min 29s\n",
      "Wall time: 2min 18s\n"
     ]
    }
   ],
   "source": [
    "%%time\n",
    "processed_docs = []    \n",
    "for doc in nlp.pipe(docs, n_threads=11, batch_size=100):\n",
    "    \n",
    "    # Lemmatize tokens, remove punctuation (also spaces, which makes it look nicer later)\n",
    "    doc = [token.lemma_ for token in doc if token.is_alpha]\n",
    "    doc = ' '.join(doc)\n",
    "    processed_docs.append(doc)"
   ]
  },
  {
   "cell_type": "code",
   "execution_count": 59,
   "metadata": {
    "collapsed": true
   },
   "outputs": [],
   "source": [
    "d.doc = processed_docs"
   ]
  },
  {
   "cell_type": "code",
   "execution_count": null,
   "metadata": {
    "collapsed": true
   },
   "outputs": [],
   "source": [
    "from rpy2.robjects.packages import importr\n",
    "base = importr('base')\n",
    "base.save_image(<arguments here...>)"
   ]
  },
  {
   "cell_type": "code",
   "execution_count": 70,
   "metadata": {
    "collapsed": true
   },
   "outputs": [],
   "source": [
    "import rpy2\n",
    "from rpy2 import robjects\n",
    "from rpy2.robjects import pandas2ri\n",
    "pandas2ri.activate()\n",
    "\n",
    "def save_rdata_file(df, filename):\n",
    "    r_data = pandas2ri.py2ri(df)\n",
    "    robjects.r.assign(\"d\", r_data)\n",
    "    robjects.r(\"save(d, file='{}')\".format(filename))"
   ]
  },
  {
   "cell_type": "code",
   "execution_count": 71,
   "metadata": {
    "collapsed": false
   },
   "outputs": [],
   "source": [
    "save_rdata_file(d, \"rfiles/d_spacyIN.rdata\")"
   ]
  }
 ],
 "metadata": {
  "kernelspec": {
   "display_name": "Python 3",
   "language": "python",
   "name": "python3"
  },
  "language_info": {
   "codemirror_mode": {
    "name": "ipython",
    "version": 3
   },
   "file_extension": ".py",
   "mimetype": "text/x-python",
   "name": "python",
   "nbconvert_exporter": "python",
   "pygments_lexer": "ipython3",
   "version": "3.5.2"
  }
 },
 "nbformat": 4,
 "nbformat_minor": 2
}
