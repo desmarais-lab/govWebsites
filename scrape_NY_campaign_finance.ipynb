{
 "cells": [
  {
   "cell_type": "code",
   "execution_count": 146,
   "metadata": {},
   "outputs": [],
   "source": [
    "from selenium import webdriver\n",
    "from selenium.webdriver.common.keys import Keys\n",
    "from selenium.common.exceptions import TimeoutException\n",
    "from selenium.common.exceptions import WebDriverException\n",
    "from selenium.webdriver.common.by import By\n",
    "from selenium.webdriver.support.ui import Select\n",
    "import json\n",
    "import os\n",
    "#import urllib2\n",
    "import time\n",
    "import csv\n",
    "import sys\n",
    "\n",
    "siteslist = []\n",
    "browser = webdriver.Firefox()\n",
    "browser.set_page_load_timeout(25)"
   ]
  },
  {
   "cell_type": "code",
   "execution_count": 147,
   "metadata": {},
   "outputs": [],
   "source": [
    "#go to the website\n",
    "url = \"https://www.elections.ny.gov/ContributionSearchA.html\"\n",
    "browser.get(url)"
   ]
  },
  {
   "cell_type": "code",
   "execution_count": 148,
   "metadata": {},
   "outputs": [],
   "source": [
    "#fill out the form\n",
    "elem = browser.find_element_by_name(\"date_from\")\n",
    "elem.clear()\n",
    "elem.send_keys('01/01/2000')\n",
    "elem = browser.find_element_by_name(\"date_to\")\n",
    "elem.clear()\n",
    "elem.send_keys('01/01/2018')\n",
    "elem = browser.find_element_by_name(\"AMOUNT_from\")\n",
    "elem.clear()\n",
    "elem.send_keys('0')\n",
    "elem = browser.find_element_by_name(\"AMOUNT_to\")\n",
    "elem.clear()\n",
    "elem.send_keys('999999')\n",
    "elem = browser.find_element_by_name(\"OFFICE_IN\")\n",
    "#elem.clear()\n",
    "elem.send_keys('Mayor')\n",
    "#elem = browser.find_element_by_name(\"county_IN\")\n",
    "#elem.clear()\n",
    "#elem.send_keys('Albany County')"
   ]
  },
  {
   "cell_type": "code",
   "execution_count": 71,
   "metadata": {
    "collapsed": true
   },
   "outputs": [],
   "source": [
    "#elem = browser.find_element_by_name(\"county_IN\")"
   ]
  },
  {
   "cell_type": "code",
   "execution_count": 149,
   "metadata": {},
   "outputs": [],
   "source": [
    "mySelect = Select(browser.find_element_by_name(\"county_IN\"))\n",
    "mySelect.select_by_index(1)"
   ]
  },
  {
   "cell_type": "code",
   "execution_count": 144,
   "metadata": {},
   "outputs": [],
   "source": [
    "from random import randint\n",
    "from time import sleep\n",
    "#from random import random\n",
    "#random.standard_normal((10,))"
   ]
  },
  {
   "cell_type": "code",
   "execution_count": 156,
   "metadata": {},
   "outputs": [
    {
     "name": "stdout",
     "output_type": "stream",
     "text": [
      "BACK\n",
      "BACK 1111\n",
      "BACK\n",
      "BACK 1111\n",
      "BACK\n",
      "BACK 1111\n",
      "BACK\n",
      "BACK 1111\n",
      "BACK\n",
      "BACK 1111\n",
      "BACK\n",
      "BACK 1111\n",
      "BACK\n",
      "BACK 1111\n",
      "BACK\n",
      "BACK 1111\n",
      "BACK\n",
      "BACK 1111\n",
      "BACK\n",
      "BACK 1111\n",
      "BACK\n",
      "BACK 1111\n",
      "BACK\n",
      "BACK 1111\n",
      "BACK\n",
      "BACK 1111\n",
      "BACK\n",
      "BACK 1111\n",
      "BACK\n",
      "BACK 1111\n",
      "BACK\n",
      "BACK 1111\n",
      "BACK\n",
      "BACK 1111\n",
      "BACK\n",
      "BACK 1111\n",
      "BACK\n",
      "BACK 1111\n",
      "BACK\n",
      "BACK 1111\n",
      "BACK\n",
      "BACK 1111\n",
      "BACK\n",
      "BACK 1111\n",
      "BACK\n",
      "BACK 1111\n",
      "BACK\n",
      "BACK 1111\n",
      "BACK\n",
      "BACK 1111\n",
      "BACK\n",
      "BACK 1111\n",
      "BACK\n",
      "BACK 1111\n",
      "BACK\n",
      "BACK 1111\n",
      "BACK\n",
      "BACK 1111\n",
      "BACK\n",
      "BACK 1111\n",
      "BACK\n",
      "BACK 1111\n",
      "BACK\n",
      "BACK 1111\n",
      "BACK\n",
      "BACK 1111\n",
      "BACK\n",
      "BACK 1111\n",
      "BACK\n",
      "BACK 1111\n",
      "BACK\n",
      "BACK 1111\n",
      "BACK\n",
      "BACK 1111\n",
      "BACK\n",
      "BACK 1111\n",
      "BACK\n",
      "BACK 1111\n",
      "BACK\n",
      "BACK 1111\n",
      "BACK\n",
      "BACK 1111\n",
      "BACK\n",
      "BACK 1111\n",
      "BACK\n",
      "BACK 1111\n",
      "BACK\n",
      "BACK 1111\n",
      "BACK\n",
      "BACK 1111\n",
      "BACK\n",
      "BACK 1111\n",
      "BACK\n",
      "BACK 1111\n",
      "BACK\n",
      "BACK 1111\n",
      "BACK\n",
      "BACK 1111\n",
      "BACK\n",
      "BACK 1111\n",
      "BACK\n",
      "BACK 1111\n",
      "BACK\n",
      "BACK 1111\n",
      "BACK\n",
      "BACK 1111\n",
      "BACK\n",
      "BACK 1111\n",
      "BACK\n",
      "BACK 1111\n",
      "BACK\n",
      "BACK 1111\n",
      "BACK\n",
      "BACK 1111\n",
      "BACK\n",
      "BACK 1111\n",
      "BACK\n",
      "BACK 1111\n",
      "BACK\n",
      "BACK 1111\n",
      "BACK\n",
      "BACK 1111\n"
     ]
    }
   ],
   "source": [
    "for i in range(1,62):\n",
    "    #fill out the form\n",
    "    browser.get(url)\n",
    "    sleep(randint(5,10))\n",
    "    #browser.implicitly_wait(5)\n",
    "    elem = browser.find_element_by_name(\"date_from\")\n",
    "    elem.clear()\n",
    "    elem.send_keys('01/01/2000')\n",
    "    elem = browser.find_element_by_name(\"date_to\")\n",
    "    elem.clear()\n",
    "    elem.send_keys('01/01/2018')\n",
    "    elem = browser.find_element_by_name(\"AMOUNT_from\")\n",
    "    elem.clear()\n",
    "    elem.send_keys('0')\n",
    "    elem = browser.find_element_by_name(\"AMOUNT_to\")\n",
    "    elem.clear()\n",
    "    elem.send_keys('999999')\n",
    "    elem = browser.find_element_by_name(\"OFFICE_IN\")\n",
    "    #elem.clear()\n",
    "    elem.send_keys('Mayor')\n",
    "    mySelect = Select(browser.find_element_by_name(\"county_IN\"))\n",
    "    mySelect.select_by_index(i)\n",
    "    #click submit\n",
    "    elem = browser.find_element_by_css_selector(\"input:nth-child(1)\")\n",
    "    elem.click()\n",
    "    #continue after the alert\n",
    "    alert = browser.switch_to.alert\n",
    "    alert.accept()\n",
    "    #get the page html\n",
    "    sleep(randint(5,10))\n",
    "    content = browser.page_source\n",
    "    #save to file\n",
    "    file_ = open('websites/ny_campaign_finance/page'+str(i)+'.html', 'w')\n",
    "    file_.write(content)\n",
    "    file_.close()\n",
    "    #go back to the form\n",
    "    #browser.implicitly_wait(10)\n",
    "    #print('BACK')\n",
    "    sleep(randint(1,3))\n",
    "    #browser.back()\n",
    "    #browser.get(url)\n",
    "    #print('BACK 1111')\n",
    "    #browser.implicitly_wait(1)"
   ]
  },
  {
   "cell_type": "code",
   "execution_count": 150,
   "metadata": {},
   "outputs": [],
   "source": [
    "#click submit\n",
    "elem = browser.find_element_by_css_selector(\"input:nth-child(1)\")\n",
    "elem.click()"
   ]
  },
  {
   "cell_type": "code",
   "execution_count": 151,
   "metadata": {},
   "outputs": [],
   "source": [
    "#continue after the alert\n",
    "alert = browser.switch_to.alert\n",
    "alert.accept()"
   ]
  },
  {
   "cell_type": "code",
   "execution_count": 152,
   "metadata": {},
   "outputs": [],
   "source": [
    "#get the page html\n",
    "content = browser.page_source"
   ]
  },
  {
   "cell_type": "code",
   "execution_count": 153,
   "metadata": {},
   "outputs": [
    {
     "data": {
      "text/plain": [
       "'<html><head>\\n</head><body background=\"/images/money.jpg\"><a name=\"main\"></a>\\n<link rel=\"stylesheet\" type=\"text/css\" href=\"/NYSBOE/ex_side_nav2new.css\" media=\"screen\">\\n<link rel=\"stylesheet\" type=\"text/css\" href=\"/NYSBOE/ex_side_nav2new.css\" media=\"screen\">\\n<link rel=\"stylesheet\" type=\"text/css\" href=\"/NYSBOE/print_ex_side_nav2.css\" media=\"print\">\\n<script src=\"/NYSBOE/mm_load_menus.js\" type=\"text/javascript\"></script>\\n<script src=\"/NYSBOE/mm_menu.js\" type=\"text/javascript\"></script>\\n<div id=\"header\">\\n</div>\\n\\n\\n<div id=\"pageBorder\">\\n<div id=\"headingcoins\">\\n<img src=\"/NYSBOE/images/FlagPicture.jpg\" alt=\"flag\" width=\"106\" height=\"110\">\\t</div>\\n<div id=\"campaignfinance_heading_office_cont\">\\n     Campaign Financial \\n     Disclosure<br>Provided by the New York State Board of \\n     Elections<br>Contributions Search Page by Candidate or Committee Name\\n</div>\\n<div id=\"cfContent\">\\n<div class=\"breadCrumbs\">\\n<a href=\"http://www.elections.ny.gov/contribandexpend.html\">Contributions and Expenditure Database</a>»<a href=\"http://www.elections.ny.gov/ContributionSearchA.html\">Contributions by Candidate/Comm Name</a>»Choose Filer</div>\\n<id=\"main\">\\n<br>\\n<br>\\n\\n\\n<left><font size=\"-1\">\\n<h4>\\nYou have requested to view Contributions for Candidates/Committees whose name was like %. Please select the specific filer \\n     you are interested in to complete your Contribution search\\n</h4>\\n<br>\\nRecord are sorted by [ NAME ]\\n<left><font size=\"-2\">\\n<table nowrap=\"\" cellpadding=\"5\" border=\"4\">\\n<tbody><tr align=\"center\" valign=\"top\">\\n<th align=\"left\">Filer Name</th>\\n<th align=\"left\">Committee Type</th>\\n<th>Office</th>\\n<th>Dist</th>\\n<th>County</th>\\n<th>Municipality</th>\\n<th>FilerID Detail Link</th>\\n</tr>\\n<tr align=\"left\" valign=\"top\">\\n<td><font size=\"-2\">BRYAN JIMENEZ FOR MAYOR</font></td>\\n<td><font size=\"-2\">Authorized</font></td>\\n<td align=\"center\"><font size=\"-2\">Mayor</font></td>\\n<td align=\"center\"><font size=\"-2\">N/A</font></td>\\n<td align=\"center\"><font size=\"-2\">Albany</font></td>\\n<td align=\"center\"><font size=\"-2\">Albany</font></td>\\n<td align=\"center\"><font size=\"-2\"><a href=\"/plsql_browser/CONTRIBUTORA_COUNTY?ID_in=C08498&amp;date_From=01/01/2000&amp;date_to=01/01/2018&amp;AMOUNT_From=0&amp;AMOUNT_to=999999&amp;ZIP1=&amp;ZIP2=&amp;ORDERBY_IN=N&amp;CATEGORY_IN=ALL\">C08498</a></font></td>\\n</tr>\\n<tr align=\"left\" valign=\"top\">\\n<td><font size=\"-2\">COMMISSO FOR MAYOR</font></td>\\n<td><font size=\"-2\">Authorized</font></td>\\n<td align=\"center\"><font size=\"-2\">Mayor</font></td>\\n<td align=\"center\"><font size=\"-2\">N/A</font></td>\\n<td align=\"center\"><font size=\"-2\">Albany</font></td>\\n<td align=\"center\"><font size=\"-2\">Albany</font></td>\\n<td align=\"center\"><font size=\"-2\"><a href=\"/plsql_browser/CONTRIBUTORA_COUNTY?ID_in=C06568&amp;date_From=01/01/2000&amp;date_to=01/01/2018&amp;AMOUNT_From=0&amp;AMOUNT_to=999999&amp;ZIP1=&amp;ZIP2=&amp;ORDERBY_IN=N&amp;CATEGORY_IN=ALL\">C06568</a></font></td>\\n</tr>\\n<tr align=\"left\" valign=\"top\">\\n<td><font size=\"-2\">COMMITTEE TO ELECT ALEX PORTELLI FOR MAYOR</font></td>\\n<td><font size=\"-2\">Authorized</font></td>\\n<td align=\"center\"><font size=\"-2\">Mayor</font></td>\\n<td align=\"center\"><font size=\"-2\">N/A</font></td>\\n<td align=\"center\"><font size=\"-2\">Albany</font></td>\\n<td align=\"center\"><font size=\"-2\">Albany</font></td>\\n<td align=\"center\"><font size=\"-2\"><a href=\"/plsql_browser/CONTRIBUTORA_COUNTY?ID_in=C00695&amp;date_From=01/01/2000&amp;date_to=01/01/2018&amp;AMOUNT_From=0&amp;AMOUNT_to=999999&amp;ZIP1=&amp;ZIP2=&amp;ORDERBY_IN=N&amp;CATEGORY_IN=ALL\">C00695</a></font></td>\\n</tr>\\n<tr align=\"left\" valign=\"top\">\\n<td><font size=\"-2\">COMMITTEE TO ELECT GEORGE E. PRIMEAU SR (CTE GEORGE E. PRIMEAU)</font></td>\\n<td><font size=\"-2\">Authorized</font></td>\\n<td align=\"center\"><font size=\"-2\">Mayor</font></td>\\n<td align=\"center\"><font size=\"-2\">N/A</font></td>\\n<td align=\"center\"><font size=\"-2\">Albany</font></td>\\n<td align=\"center\"><font size=\"-2\">Cohoes</font></td>\\n<td align=\"center\"><font size=\"-2\"><a href=\"/plsql_browser/CONTRIBUTORA_COUNTY?ID_in=C00061&amp;date_From=01/01/2000&amp;date_to=01/01/2018&amp;AMOUNT_From=0&amp;AMOUNT_to=999999&amp;ZIP1=&amp;ZIP2=&amp;ORDERBY_IN=N&amp;CATEGORY_IN=ALL\">C00061</a></font></td>\\n</tr>\\n<tr align=\"left\" valign=\"top\">\\n<td><font size=\"-2\">COMMITTEE TO ELECT MICHAEL MANNING</font></td>\\n<td><font size=\"-2\">Authorized</font></td>\\n<td align=\"center\"><font size=\"-2\">Mayor</font></td>\\n<td align=\"center\"><font size=\"-2\">N/A</font></td>\\n<td align=\"center\"><font size=\"-2\">Albany</font></td>\\n<td align=\"center\"><font size=\"-2\">Watervliet</font></td>\\n<td align=\"center\"><font size=\"-2\"><a href=\"/plsql_browser/CONTRIBUTORA_COUNTY?ID_in=C20862&amp;date_From=01/01/2000&amp;date_to=01/01/2018&amp;AMOUNT_From=0&amp;AMOUNT_to=999999&amp;ZIP1=&amp;ZIP2=&amp;ORDERBY_IN=N&amp;CATEGORY_IN=ALL\">C20862</a></font></td>\\n</tr>\\n<tr align=\"left\" valign=\"top\">\\n<td><font size=\"-2\">FRIENDS OF KATHY SHEEHAN</font></td>\\n<td><font size=\"-2\">Authorized</font></td>\\n<td align=\"center\"><font size=\"-2\">Mayor</font></td>\\n<td align=\"center\"><font size=\"-2\">N/A</font></td>\\n<td align=\"center\"><font size=\"-2\">Albany</font></td>\\n<td align=\"center\"><font size=\"-2\">Albany</font></td>\\n<td align=\"center\"><font size=\"-2\"><a href=\"/plsql_browser/CONTRIBUTORA_COUNTY?ID_in=C45035&amp;date_From=01/01/2000&amp;date_to=01/01/2018&amp;AMOUNT_From=0&amp;AMOUNT_to=999999&amp;ZIP1=&amp;ZIP2=&amp;ORDERBY_IN=N&amp;CATEGORY_IN=ALL\">C45035</a></font></td>\\n</tr>\\n<tr align=\"left\" valign=\"top\">\\n<td><font size=\"-2\">FRIENDS OF SHAWN MORRIS</font></td>\\n<td><font size=\"-2\">Authorized</font></td>\\n<td align=\"center\"><font size=\"-2\">Mayor</font></td>\\n<td align=\"center\"><font size=\"-2\">N/A</font></td>\\n<td align=\"center\"><font size=\"-2\">Albany</font></td>\\n<td align=\"center\"><font size=\"-2\">Albany</font></td>\\n<td align=\"center\"><font size=\"-2\"><a href=\"/plsql_browser/CONTRIBUTORA_COUNTY?ID_in=C20712&amp;date_From=01/01/2000&amp;date_to=01/01/2018&amp;AMOUNT_From=0&amp;AMOUNT_to=999999&amp;ZIP1=&amp;ZIP2=&amp;ORDERBY_IN=N&amp;CATEGORY_IN=ALL\">C20712</a></font></td>\\n</tr>\\n<tr align=\"left\" valign=\"top\">\\n<td><font size=\"-2\">FRIENDS OF SHAWN MORSE</font></td>\\n<td><font size=\"-2\">Authorized</font></td>\\n<td align=\"center\"><font size=\"-2\">Mayor</font></td>\\n<td align=\"center\"><font size=\"-2\">N/A</font></td>\\n<td align=\"center\"><font size=\"-2\">Albany</font></td>\\n<td align=\"center\"><font size=\"-2\">Cohoes</font></td>\\n<td align=\"center\"><font size=\"-2\"><a href=\"/plsql_browser/CONTRIBUTORA_COUNTY?ID_in=C31670&amp;date_From=01/01/2000&amp;date_to=01/01/2018&amp;AMOUNT_From=0&amp;AMOUNT_to=999999&amp;ZIP1=&amp;ZIP2=&amp;ORDERBY_IN=N&amp;CATEGORY_IN=ALL\">C31670</a></font></td>\\n</tr>\\n<tr align=\"left\" valign=\"top\">\\n<td><font size=\"-2\">JENNINGS 2009 (GENERAL ELECTION COMMITTEE)</font></td>\\n<td><font size=\"-2\">Authorized</font></td>\\n<td align=\"center\"><font size=\"-2\">Mayor</font></td>\\n<td align=\"center\"><font size=\"-2\">N/A</font></td>\\n<td align=\"center\"><font size=\"-2\">Albany</font></td>\\n<td align=\"center\"><font size=\"-2\">Albany</font></td>\\n<td align=\"center\"><font size=\"-2\"><a href=\"/plsql_browser/CONTRIBUTORA_COUNTY?ID_in=C51139&amp;date_From=01/01/2000&amp;date_to=01/01/2018&amp;AMOUNT_From=0&amp;AMOUNT_to=999999&amp;ZIP1=&amp;ZIP2=&amp;ORDERBY_IN=N&amp;CATEGORY_IN=ALL\">C51139</a></font></td>\\n</tr>\\n<tr align=\"left\" valign=\"top\">\\n<td><font size=\"-2\">JENNINGS 2009 (PRIMARY ELECTION COMMITTEE)</font></td>\\n<td><font size=\"-2\">Authorized</font></td>\\n<td align=\"center\"><font size=\"-2\">Mayor</font></td>\\n<td align=\"center\"><font size=\"-2\">N/A</font></td>\\n<td align=\"center\"><font size=\"-2\">Albany</font></td>\\n<td align=\"center\"><font size=\"-2\">Albany</font></td>\\n<td align=\"center\"><font size=\"-2\"><a href=\"/plsql_browser/CONTRIBUTORA_COUNTY?ID_in=C20544&amp;date_From=01/01/2000&amp;date_to=01/01/2018&amp;AMOUNT_From=0&amp;AMOUNT_to=999999&amp;ZIP1=&amp;ZIP2=&amp;ORDERBY_IN=N&amp;CATEGORY_IN=ALL\">C20544</a></font></td>\\n</tr>\\n<tr align=\"left\" valign=\"top\">\\n<td><font size=\"-2\">JENNINGS PRIMARY 2005</font></td>\\n<td><font size=\"-2\">Authorized</font></td>\\n<td align=\"center\"><font size=\"-2\">Mayor</font></td>\\n<td align=\"center\"><font size=\"-2\">N/A</font></td>\\n<td align=\"center\"><font size=\"-2\">Albany</font></td>\\n<td align=\"center\"><font size=\"-2\">Albany</font></td>\\n<td align=\"center\"><font size=\"-2\"><a href=\"/plsql_browser/CONTRIBUTORA_COUNTY?ID_in=C20354&amp;date_From=01/01/2000&amp;date_to=01/01/2018&amp;AMOUNT_From=0&amp;AMOUNT_to=999999&amp;ZIP1=&amp;ZIP2=&amp;ORDERBY_IN=N&amp;CATEGORY_IN=ALL\">C20354</a></font></td>\\n</tr>\\n<tr align=\"left\" valign=\"top\">\\n<td><font size=\"-2\">MCDONALD FOR MAYOR</font></td>\\n<td><font size=\"-2\">Authorized</font></td>\\n<td align=\"center\"><font size=\"-2\">Mayor</font></td>\\n<td align=\"center\"><font size=\"-2\">N/A</font></td>\\n<td align=\"center\"><font size=\"-2\">Albany</font></td>\\n<td align=\"center\"><font size=\"-2\">Cohoes</font></td>\\n<td align=\"center\"><font size=\"-2\"><a href=\"/plsql_browser/CONTRIBUTORA_COUNTY?ID_in=C19664&amp;date_From=01/01/2000&amp;date_to=01/01/2018&amp;AMOUNT_From=0&amp;AMOUNT_to=999999&amp;ZIP1=&amp;ZIP2=&amp;ORDERBY_IN=N&amp;CATEGORY_IN=ALL\">C19664</a></font></td>\\n</tr>\\n<tr align=\"left\" valign=\"top\">\\n<td><font size=\"-2\">MCLAUGHLIN 2017</font></td>\\n<td><font size=\"-2\">Authorized</font></td>\\n<td align=\"center\"><font size=\"-2\">Mayor</font></td>\\n<td align=\"center\"><font size=\"-2\">N/A</font></td>\\n<td align=\"center\"><font size=\"-2\">Albany</font></td>\\n<td align=\"center\"><font size=\"-2\">Albany</font></td>\\n<td align=\"center\"><font size=\"-2\"><a href=\"/plsql_browser/CONTRIBUTORA_COUNTY?ID_in=C06744&amp;date_From=01/01/2000&amp;date_to=01/01/2018&amp;AMOUNT_From=0&amp;AMOUNT_to=999999&amp;ZIP1=&amp;ZIP2=&amp;ORDERBY_IN=N&amp;CATEGORY_IN=ALL\">C06744</a></font></td>\\n</tr>\\n<tr align=\"left\" valign=\"top\">\\n<td><font size=\"-2\">NOLIN FOR MAYOR</font></td>\\n<td><font size=\"-2\">Authorized</font></td>\\n<td align=\"center\"><font size=\"-2\">Mayor</font></td>\\n<td align=\"center\"><font size=\"-2\">N/A</font></td>\\n<td align=\"center\"><font size=\"-2\">Albany</font></td>\\n<td align=\"center\"><font size=\"-2\">Cohoes</font></td>\\n<td align=\"center\"><font size=\"-2\"><a href=\"/plsql_browser/CONTRIBUTORA_COUNTY?ID_in=C03766&amp;date_From=01/01/2000&amp;date_to=01/01/2018&amp;AMOUNT_From=0&amp;AMOUNT_to=999999&amp;ZIP1=&amp;ZIP2=&amp;ORDERBY_IN=N&amp;CATEGORY_IN=ALL\">C03766</a></font></td>\\n</tr>\\n<tr align=\"left\" valign=\"top\">\\n<td><font size=\"-2\">THERESA PORTELLI FOR MAYOR</font></td>\\n<td><font size=\"-2\">Authorized</font></td>\\n<td align=\"center\"><font size=\"-2\">Mayor</font></td>\\n<td align=\"center\"><font size=\"-2\">N/A</font></td>\\n<td align=\"center\"><font size=\"-2\">Albany</font></td>\\n<td align=\"center\"><font size=\"-2\">Albany</font></td>\\n<td align=\"center\"><font size=\"-2\"><a href=\"/plsql_browser/CONTRIBUTORA_COUNTY?ID_in=C02227&amp;date_From=01/01/2000&amp;date_to=01/01/2018&amp;AMOUNT_From=0&amp;AMOUNT_to=999999&amp;ZIP1=&amp;ZIP2=&amp;ORDERBY_IN=N&amp;CATEGORY_IN=ALL\">C02227</a></font></td>\\n</tr>\\n</tbody></table>\\n<br>\\n<br>\\n<a href=\"#main\">BACK TO TOP</a>\\n\\n\\n</font></left></font></left></id=\"main\"></div></div></body></html>'"
      ]
     },
     "execution_count": 153,
     "metadata": {},
     "output_type": "execute_result"
    }
   ],
   "source": [
    "content"
   ]
  },
  {
   "cell_type": "code",
   "execution_count": 154,
   "metadata": {},
   "outputs": [],
   "source": [
    "#save to file\n",
    "file_ = open('websites/ny_campaign_finance/page1.html', 'w')\n",
    "file_.write(content)\n",
    "file_.close()"
   ]
  },
  {
   "cell_type": "code",
   "execution_count": 155,
   "metadata": {
    "collapsed": true
   },
   "outputs": [],
   "source": [
    "#go back\n",
    "browser.back()"
   ]
  },
  {
   "cell_type": "code",
   "execution_count": null,
   "metadata": {
    "collapsed": true
   },
   "outputs": [],
   "source": []
  }
 ],
 "metadata": {
  "kernelspec": {
   "display_name": "Python 3",
   "language": "python",
   "name": "python3"
  },
  "language_info": {
   "codemirror_mode": {
    "name": "ipython",
    "version": 3
   },
   "file_extension": ".py",
   "mimetype": "text/x-python",
   "name": "python",
   "nbconvert_exporter": "python",
   "pygments_lexer": "ipython3",
   "version": "3.6.4"
  }
 },
 "nbformat": 4,
 "nbformat_minor": 2
}
