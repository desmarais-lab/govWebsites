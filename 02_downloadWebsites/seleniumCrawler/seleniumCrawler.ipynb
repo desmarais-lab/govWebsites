{
 "cells": [
  {
   "cell_type": "code",
   "execution_count": 1,
   "metadata": {},
   "outputs": [],
   "source": [
    "import pandas as pd\n",
    "from selenium import webdriver\n",
    "from selenium.webdriver.common.keys import Keys\n",
    "from selenium.webdriver.common.action_chains import ActionChains\n",
    "from selenium.common.exceptions import ElementClickInterceptedException\n",
    "from selenium.common.exceptions import NoSuchElementException\n",
    "from selenium.webdriver.common.desired_capabilities import DesiredCapabilities\n",
    "import re\n",
    "from time import sleep\n",
    "import random\n",
    "#return a randomly generated number\n",
    "#from a normal distribution\n",
    "#but within a range\n",
    "#source: https://stackoverflow.com/a/26920781\n",
    "def trunc_gauss(mu, sigma, bottom, top):\n",
    "    a = random.gauss(mu,sigma)\n",
    "    while (bottom <= a <= top) == False:\n",
    "        a = random.gauss(mu,sigma)\n",
    "    return a\n",
    "\n",
    "caps = DesiredCapabilities().FIREFOX\n",
    "\n",
    "#function to sleep a random amount of time, mean 2.5, sd 0.5, but no less than 2.0001 or more than 2.9999 seconds\n",
    "#this is necessary because if the wait time is too high, the connection between selenium and the browser might break\n",
    "def short_sleep():\n",
    "    sleep(trunc_gauss(2.5, 0.5, 2.0001, 2.9999))\n",
    "\n",
    "site = \"https://www.cityofdenhamsprings.com/\"\n",
    "\n",
    "driver = webdriver.Firefox(capabilities=caps)\n",
    "driver.get(site)\n",
    "elems = driver.find_elements_by_xpath(\"//a[@href]\")\n",
    "hrefs = []\n",
    "for elem in elems:\n",
    "    hrefs.append(elem.get_attribute(\"href\"))"
   ]
  },
  {
   "cell_type": "code",
   "execution_count": 4,
   "metadata": {},
   "outputs": [],
   "source": [
    "import tldextract\n",
    "#check the domain name of the website's homepage\n",
    "site_tld = tldextract.extract(site)"
   ]
  },
  {
   "cell_type": "code",
   "execution_count": 5,
   "metadata": {},
   "outputs": [],
   "source": [
    "#check each of the urls found on the site for whether it actually belongs to the same domain\n",
    "#gather the ones that do in the site_links list\n",
    "site_links = []\n",
    "for href in hrefs:\n",
    "    href_tld = tldextract.extract(href)\n",
    "    if href_tld.domain == site_tld.domain:\n",
    "        site_links.append(href)"
   ]
  },
  {
   "cell_type": "code",
   "execution_count": 6,
   "metadata": {},
   "outputs": [],
   "source": [
    "#remove duplicates; requires python 3.7\n",
    "site_links = list(dict.fromkeys(site_links))"
   ]
  },
  {
   "cell_type": "code",
   "execution_count": 7,
   "metadata": {},
   "outputs": [],
   "source": [
    "#kick out email addresses\n",
    "site_links = [i for i in site_links if not '@' in i]\n",
    "#which URLs have we already visited?\n",
    "urls_visited = dict.fromkeys(site_links, False)"
   ]
  },
  {
   "cell_type": "code",
   "execution_count": 8,
   "metadata": {},
   "outputs": [
    {
     "ename": "KeyboardInterrupt",
     "evalue": "",
     "output_type": "error",
     "traceback": [
      "\u001b[0;31m---------------------------------------------------------------------------\u001b[0m",
      "\u001b[0;31mKeyboardInterrupt\u001b[0m                         Traceback (most recent call last)",
      "\u001b[0;32m<ipython-input-8-b8fb9aeb708c>\u001b[0m in \u001b[0;36m<module>\u001b[0;34m()\u001b[0m\n\u001b[1;32m     36\u001b[0m         \u001b[0;31m#potentially remove a # at the end of the url (preventing duplicates)\u001b[0m\u001b[0;34m\u001b[0m\u001b[0;34m\u001b[0m\u001b[0m\n\u001b[1;32m     37\u001b[0m         \u001b[0;31m#and then add to the dictionary\u001b[0m\u001b[0;34m\u001b[0m\u001b[0;34m\u001b[0m\u001b[0m\n\u001b[0;32m---> 38\u001b[0;31m         \u001b[0murls_visited\u001b[0m\u001b[0;34m.\u001b[0m\u001b[0msetdefault\u001b[0m\u001b[0;34m(\u001b[0m\u001b[0mre\u001b[0m\u001b[0;34m.\u001b[0m\u001b[0msub\u001b[0m\u001b[0;34m(\u001b[0m\u001b[0;34m'#$'\u001b[0m\u001b[0;34m,\u001b[0m \u001b[0;34m''\u001b[0m\u001b[0;34m,\u001b[0m \u001b[0mi\u001b[0m\u001b[0;34m)\u001b[0m\u001b[0;34m,\u001b[0m \u001b[0;34m'False'\u001b[0m\u001b[0;34m)\u001b[0m\u001b[0;34m\u001b[0m\u001b[0m\n\u001b[0m",
      "\u001b[0;31mKeyboardInterrupt\u001b[0m: "
     ]
    }
   ],
   "source": [
    "new_links = []\n",
    "\n",
    "#keep going over the dict until all links have been explored\n",
    "while not all(value == True for value in urls_visited.values()):\n",
    "\n",
    "    for i in urls_visited:\n",
    "\n",
    "        if urls_visited[i]==False:\n",
    "\n",
    "            #go to the subdomain url\n",
    "            #and extract all the urls again\n",
    "            driver.get(i)\n",
    "            elems = driver.find_elements_by_xpath(\"//a[@href]\")\n",
    "            hrefs = []\n",
    "            for elem in elems:\n",
    "                hrefs.append(elem.get_attribute(\"href\"))\n",
    "            #sub_site_links = []\n",
    "            for href in hrefs:\n",
    "                href_tld = tldextract.extract(href)\n",
    "                if href_tld.domain == site_tld.domain:\n",
    "                    new_links.append(href)\n",
    "\n",
    "            #note that we have visited the url        \n",
    "            urls_visited[i] = True\n",
    "\n",
    "            #add all the new links\n",
    "            #for link in sub_site_links:\n",
    "            #    urls_visited.setdefault(link, 'False')\n",
    "\n",
    "    #remove duplicates\n",
    "    new_links = list(dict.fromkeys(new_links))\n",
    "    #remove email addresses\n",
    "    new_links = [i for i in new_links if not '@' in i]\n",
    "\n",
    "    for i in new_links:\n",
    "        #potentially remove a # at the end of the url (preventing duplicates)\n",
    "        #and then add to the dictionary\n",
    "        urls_visited.setdefault(re.sub('#$', '', i), 'False')"
   ]
  },
  {
   "cell_type": "code",
   "execution_count": 9,
   "metadata": {},
   "outputs": [
    {
     "data": {
      "text/plain": [
       "{'http://www.cityofdenhamsprings.com/': 'False',\n",
       " 'http://www.cityofdenhamsprings.com/purchasing.shtml': 'False',\n",
       " 'https://www.cityofdenhamsprings.com/': 'False',\n",
       " 'https://www.cityofdenhamsprings.com/#': True,\n",
       " 'https://www.cityofdenhamsprings.com/administration.html': True,\n",
       " 'https://www.cityofdenhamsprings.com/agendas---minutes-2016.html': True,\n",
       " 'https://www.cityofdenhamsprings.com/agendas---minutes-2017.html': True,\n",
       " 'https://www.cityofdenhamsprings.com/agendas---minutes-2018.html': True,\n",
       " 'https://www.cityofdenhamsprings.com/agendas-minutes.html': True,\n",
       " 'https://www.cityofdenhamsprings.com/animal-control-center.html': True,\n",
       " 'https://www.cityofdenhamsprings.com/business-licenses.html': True,\n",
       " 'https://www.cityofdenhamsprings.com/businesses.html': True,\n",
       " 'https://www.cityofdenhamsprings.com/cemetery-services.html': True,\n",
       " 'https://www.cityofdenhamsprings.com/city-calendar.html': True,\n",
       " 'https://www.cityofdenhamsprings.com/city-council.html': True,\n",
       " 'https://www.cityofdenhamsprings.com/civil-service-department.html': True,\n",
       " 'https://www.cityofdenhamsprings.com/contact-us.html': True,\n",
       " 'https://www.cityofdenhamsprings.com/council-meeting-schedule.html': True,\n",
       " 'https://www.cityofdenhamsprings.com/council-member-1.html': 'False',\n",
       " 'https://www.cityofdenhamsprings.com/council-member-2.html': 'False',\n",
       " 'https://www.cityofdenhamsprings.com/council-member-3.html': 'False',\n",
       " 'https://www.cityofdenhamsprings.com/council-member-4.html': 'False',\n",
       " 'https://www.cityofdenhamsprings.com/council-member-5.html': 'False',\n",
       " 'https://www.cityofdenhamsprings.com/current-job-openings.html': True,\n",
       " 'https://www.cityofdenhamsprings.com/departments.html': True,\n",
       " 'https://www.cityofdenhamsprings.com/fema-mitigation-program.html': True,\n",
       " 'https://www.cityofdenhamsprings.com/finance-office.html': True,\n",
       " 'https://www.cityofdenhamsprings.com/fire-dept.html': True,\n",
       " 'https://www.cityofdenhamsprings.com/floodplain-management--floodplain-awareness.html': True,\n",
       " 'https://www.cityofdenhamsprings.com/garbage---recycling.html': True,\n",
       " 'https://www.cityofdenhamsprings.com/gas-department.html': True,\n",
       " 'https://www.cityofdenhamsprings.com/grants.html': True,\n",
       " 'https://www.cityofdenhamsprings.com/home.html': True,\n",
       " 'https://www.cityofdenhamsprings.com/human-resources.html': True,\n",
       " 'https://www.cityofdenhamsprings.com/mayor-landry.html': True,\n",
       " 'https://www.cityofdenhamsprings.com/municipal-court.html': True,\n",
       " 'https://www.cityofdenhamsprings.com/new-businesses.html': True,\n",
       " 'https://www.cityofdenhamsprings.com/old-city-hall.html': True,\n",
       " 'https://www.cityofdenhamsprings.com/onlineforms-old.html': True,\n",
       " 'https://www.cityofdenhamsprings.com/onlineforms.html': True,\n",
       " 'https://www.cityofdenhamsprings.com/planning---development.html': True,\n",
       " 'https://www.cityofdenhamsprings.com/planning---zoning-meetings.html': True,\n",
       " 'https://www.cityofdenhamsprings.com/public-works.html': True,\n",
       " 'https://www.cityofdenhamsprings.com/purchasing.html': True,\n",
       " 'https://www.cityofdenhamsprings.com/residents.html': True,\n",
       " 'https://www.cityofdenhamsprings.com/streets.html': True,\n",
       " 'https://www.cityofdenhamsprings.com/utility-billing.html': True,\n",
       " 'https://www.cityofdenhamsprings.com/utility-payments.html': True,\n",
       " 'https://www.cityofdenhamsprings.com/wastewater.html': True,\n",
       " 'https://www.cityofdenhamsprings.com/water.html': True,\n",
       " 'https://www.cityofdenhamsprings.com/waterways.html': True}"
      ]
     },
     "execution_count": 9,
     "metadata": {},
     "output_type": "execute_result"
    }
   ],
   "source": [
    "urls_visited"
   ]
  }
 ],
 "metadata": {
  "kernelspec": {
   "display_name": "Python 3",
   "language": "python",
   "name": "python3"
  },
  "language_info": {
   "codemirror_mode": {
    "name": "ipython",
    "version": 3
   },
   "file_extension": ".py",
   "mimetype": "text/x-python",
   "name": "python",
   "nbconvert_exporter": "python",
   "pygments_lexer": "ipython3",
   "version": "3.5.2"
  }
 },
 "nbformat": 4,
 "nbformat_minor": 2
}
