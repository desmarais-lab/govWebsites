{
 "cells": [
  {
   "cell_type": "code",
   "execution_count": 2,
   "metadata": {
    "collapsed": true
   },
   "outputs": [],
   "source": [
    "import pandas as pd\n",
    "from pandas import Series\n",
    "import numpy as np\n",
    "df = pd.read_csv('/home/markus/govWebsites/data/Campaign_Finance_Reporting_History.csv')\n",
    "df[['filer_id_1', \"filer_id_2\", \"filer_id_3\", \"filer_id_4\"]] = df['filer_id'].str.split(' ').apply(Series)\n",
    "df['campaign_finance_URL'] = \"https://www.pdc.wa.gov/reports/contributions_download?filer_id=\"+df.filer_id_1+\"%20%20\"+df.filer_id_3+\"&election_year=\"+df.election_year.map(str)"
   ]
  },
  {
   "cell_type": "code",
   "execution_count": 3,
   "metadata": {},
   "outputs": [
    {
     "data": {
      "text/plain": [
       "125"
      ]
     },
     "execution_count": 3,
     "metadata": {},
     "output_type": "execute_result"
    }
   ],
   "source": [
    "df = df.dropna(subset=['url'])\n",
    "df.drop_duplicates('filer_id', inplace = True)\n",
    "df = df[df.election_year > 2013]\n",
    "len(df)"
   ]
  },
  {
   "cell_type": "code",
   "execution_count": 269,
   "metadata": {},
   "outputs": [
    {
     "name": "stderr",
     "output_type": "stream",
     "text": [
      "/usr/lib/python3.6/site-packages/ipykernel_launcher.py:1: FutureWarning: currently extract(expand=None) means expand=False (return Index/Series/DataFrame) but in a future version of pandas this will be changed to expand=True (return DataFrame)\n",
      "  \"\"\"Entry point for launching an IPython kernel.\n"
     ]
    }
   ],
   "source": [
    "#the link to the actual report is also in the df, but this is just a pdf\n",
    "#df['url_actual'] = df['url'].str.extract('\\((.*?)\\)')\n",
    "#df['url_actual'][33]"
   ]
  },
  {
   "cell_type": "code",
   "execution_count": 4,
   "metadata": {
    "collapsed": true
   },
   "outputs": [],
   "source": [
    "from selenium import webdriver\n",
    "from selenium.webdriver.common.keys import Keys\n",
    "from selenium.common.exceptions import TimeoutException\n",
    "from selenium.common.exceptions import WebDriverException\n",
    "from selenium.webdriver.common.by import By\n",
    "from selenium.webdriver.support.ui import Select\n",
    "import json\n",
    "import os\n",
    "#import urllib2\n",
    "import time\n",
    "import csv\n",
    "import sys\n",
    "\n",
    "#in order to download stuff without having to handle the popup, the following options need to be set in the browser profile:\n",
    "profile = webdriver.FirefoxProfile()\n",
    "profile.set_preference('browser.helperApps.neverAsk.saveToDisk', 'text/plain,text/csv,application/csv,application/vnd.ms-excel,text/comma-separat‌​ed-values,application/excel,application/octet-stream')\n",
    "#tells the browser not to use the default download folder\n",
    "profile.set_preference('browser.download.folderList', 2)\n",
    "#don't show progress bar\n",
    "profile.set_preference('browser.download.manager.showWhenStarting', False)\n",
    "#save to a specific folder\n",
    "#profile.set_preference('browser.download.dir', os.getcwd()+'/websites/WA_campaign_finance')\n",
    "profile.set_preference('browser.download.dir', '/home/markus/govWebsites/websites/WA_campaign_finance')\n",
    "\n",
    "siteslist = []\n",
    "browser = webdriver.Firefox(firefox_profile=profile)\n",
    "browser.set_page_load_timeout(25)\n",
    "\n",
    "#go to the website\n",
    "#url = testURL\n",
    "#url = \"https://www.pdc.wa.gov/reports/contributions_download?filer_id=DURKJ%20%20144&election_year=2017\"\n",
    "#browser.get(url)\n",
    "\n",
    "#download the file\n",
    "#elem = browser.find_element_by_link_text('Download as CSV')\n",
    "#elem.click()"
   ]
  },
  {
   "cell_type": "code",
   "execution_count": 5,
   "metadata": {
    "collapsed": true
   },
   "outputs": [],
   "source": [
    "from random import gauss\n",
    "from time import sleep"
   ]
  },
  {
   "cell_type": "code",
   "execution_count": 6,
   "metadata": {
    "scrolled": true
   },
   "outputs": [
    {
     "name": "stdout",
     "output_type": "stream",
     "text": [
      "Message: Unable to locate element: Download as CSV\n",
      "\n",
      "Message: Unable to locate element: Download as CSV\n",
      "\n",
      "Message: Unable to locate element: Download as CSV\n",
      "\n",
      "Message: Unable to locate element: Download as CSV\n",
      "\n",
      "Message: Unable to locate element: Download as CSV\n",
      "\n",
      "Message: Unable to locate element: Download as CSV\n",
      "\n",
      "Message: Unable to locate element: Download as CSV\n",
      "\n",
      "Message: Unable to locate element: Download as CSV\n",
      "\n",
      "Message: Unable to locate element: Download as CSV\n",
      "\n",
      "Message: Unable to locate element: Download as CSV\n",
      "\n",
      "Message: Unable to locate element: Download as CSV\n",
      "\n",
      "Message: Unable to locate element: Download as CSV\n",
      "\n",
      "Message: Unable to locate element: Download as CSV\n",
      "\n",
      "Message: Unable to locate element: Download as CSV\n",
      "\n",
      "Message: Unable to locate element: Download as CSV\n",
      "\n",
      "Message: Unable to locate element: Download as CSV\n",
      "\n",
      "Message: Unable to locate element: Download as CSV\n",
      "\n",
      "Message: Unable to locate element: Download as CSV\n",
      "\n",
      "Message: Unable to locate element: Download as CSV\n",
      "\n",
      "Message: Unable to locate element: Download as CSV\n",
      "\n",
      "Message: Unable to locate element: Download as CSV\n",
      "\n",
      "Message: Unable to locate element: Download as CSV\n",
      "\n",
      "Message: Unable to locate element: Download as CSV\n",
      "\n",
      "Message: Unable to locate element: Download as CSV\n",
      "\n",
      "Message: Unable to locate element: Download as CSV\n",
      "\n",
      "Message: Unable to locate element: Download as CSV\n",
      "\n",
      "Message: Unable to locate element: Download as CSV\n",
      "\n",
      "Message: Unable to locate element: Download as CSV\n",
      "\n",
      "Message: Unable to locate element: Download as CSV\n",
      "\n",
      "Message: Unable to locate element: Download as CSV\n",
      "\n",
      "Message: Unable to locate element: Download as CSV\n",
      "\n",
      "Message: Unable to locate element: Download as CSV\n",
      "\n",
      "Message: Unable to locate element: Download as CSV\n",
      "\n",
      "Message: Unable to locate element: Download as CSV\n",
      "\n",
      "Message: Unable to locate element: Download as CSV\n",
      "\n",
      "Message: Unable to locate element: Download as CSV\n",
      "\n",
      "Message: Unable to locate element: Download as CSV\n",
      "\n",
      "Message: Unable to locate element: Download as CSV\n",
      "\n",
      "Message: Unable to locate element: Download as CSV\n",
      "\n",
      "Message: Unable to locate element: Download as CSV\n",
      "\n",
      "Message: Unable to locate element: Download as CSV\n",
      "\n"
     ]
    }
   ],
   "source": [
    "df['ERROR'] = False\n",
    "for index, row in df.iterrows():\n",
    "    sleep(gauss(7, .5))\n",
    "    try:\n",
    "        url = row['campaign_finance_URL']\n",
    "        browser.get(url)\n",
    "        #sleep for a randomly defined time (normal distribution, mean 7, sd .5)\n",
    "        sleep(gauss(7, .5))\n",
    "        elem = browser.find_element_by_link_text('Download as CSV')\n",
    "        elem.click()\n",
    "    except Exception as e:\n",
    "        print(e)\n",
    "        if 'Message: Unable to locate element: Download as CSV' in str(e):\n",
    "            # Do the following\n",
    "            row['ERROR'] = True\n",
    "            # if you don't want to stop for loop then just continue\n",
    "            continue"
   ]
  }
 ],
 "metadata": {
  "kernelspec": {
   "display_name": "Python 3",
   "language": "python",
   "name": "python3"
  },
  "language_info": {
   "codemirror_mode": {
    "name": "ipython",
    "version": 3
   },
   "file_extension": ".py",
   "mimetype": "text/x-python",
   "name": "python",
   "nbconvert_exporter": "python",
   "pygments_lexer": "ipython3",
   "version": "3.6.4"
  }
 },
 "nbformat": 4,
 "nbformat_minor": 1
}
